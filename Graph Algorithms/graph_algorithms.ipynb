{
 "cells": [
  {
   "cell_type": "code",
   "execution_count": 1,
   "metadata": {},
   "outputs": [],
   "source": [
    "import networkx as nx\n",
    "import matplotlib.pyplot as plt"
   ]
  },
  {
   "cell_type": "markdown",
   "metadata": {},
   "source": [
    "Graph data structure are series of nodes (vertices) and edges (relationships) that connect different nodes together. This is similar to a tree with branches. Social media is the most commonly referenced application that uses graph data structures. A node is a user and a user is connected to other users via relationships (edge) such as being friends (1st order connection) or friends of friends (2nd order connection).\n",
    "\n",
    "**Common Graph Operations**\n",
    "- Check if an element is present in a graph. Searching a graph allows us to find all the nodes via the relationships. \n",
    "- Graph Traversal. Traveling through a graph to uncover all the information available.\n",
    "- Add elements (nodes, relationships) to a graph\n",
    "- Finding the path from one node to another.\n"
   ]
  },
  {
   "cell_type": "code",
   "execution_count": null,
   "metadata": {},
   "outputs": [],
   "source": []
  },
  {
   "cell_type": "markdown",
   "metadata": {},
   "source": [
    "## Dijkstra's Algorithm\n",
    "\n",
    "This algo. finds the shortest path between two points on a map. Imagine you are in a big city and you want to go to the nearest grocery store. You have a map and there are many routes you can take to get to the store. \n",
    "\n",
    "Dijkstra looks at all the routes and finds the shortest one to the grocery store. \n",
    "\n",
    "The algo. works on the basis that any subpath `B -> D` of the shortest path `A -> D` between nodes A and D is also the shortest path between nodes B and D"
   ]
  },
  {
   "cell_type": "code",
   "execution_count": 4,
   "metadata": {},
   "outputs": [],
   "source": [
    "import heapq\n",
    "\n",
    "# Define the graph using a dictionary\n",
    "graph = {\n",
    "    \"A\": {\"B\": 1, \"C\": 4},\n",
    "    \"B\": {\"C\": 2, \"D\": 5},\n",
    "    \"C\": {\"D\": 1},\n",
    "    \"D\": {}\n",
    "}\n",
    "\n",
    "def dijkstra(graph, start, destination=None):\n",
    "    \n",
    "    #initialize graph distances to be infinity\n",
    "    distances = {node: float(\"inf\") for node in graph}\n",
    "\n",
    "    #set starting point distance to 0\n",
    "    distances[start] = 0\n",
    "    \n",
    "    #initialize priority queue called heap\n",
    "    #this is used to keep track of the nodes to visit next \n",
    "    heap = [(0, start)]\n",
    "    \n",
    "    while heap:\n",
    "        (current_distance, current_node) = heapq.heappop(heap)\n",
    "\n",
    "        #check if the current distance is shorter than the distance stored for that node.\n",
    "        #we will only store the new distance if it is shorter than the saved distance\n",
    "        if current_distance > distances[current_node]:\n",
    "            continue\n",
    "\n",
    "        for neighbor, weight in graph[current_node].items():\n",
    "            distance = current_distance + weight\n",
    "\n",
    "            if distance < distances[neighbor]:\n",
    "                distances[neighbor] = distance\n",
    "                heapq.heappush(heap, (distance, neighbor))\n",
    "\n",
    "    return distances\n",
    "\n",
    "\n"
   ]
  },
  {
   "cell_type": "code",
   "execution_count": 7,
   "metadata": {},
   "outputs": [
    {
     "name": "stdout",
     "output_type": "stream",
     "text": [
      "inf\n"
     ]
    }
   ],
   "source": [
    "distances = dijkstra(graph, \"B\")\n",
    "print(distances[\"A\"])\n"
   ]
  },
  {
   "cell_type": "markdown",
   "metadata": {},
   "source": []
  },
  {
   "cell_type": "code",
   "execution_count": null,
   "metadata": {},
   "outputs": [],
   "source": []
  }
 ],
 "metadata": {
  "kernelspec": {
   "display_name": "Python 3",
   "language": "python",
   "name": "python3"
  },
  "language_info": {
   "codemirror_mode": {
    "name": "ipython",
    "version": 3
   },
   "file_extension": ".py",
   "mimetype": "text/x-python",
   "name": "python",
   "nbconvert_exporter": "python",
   "pygments_lexer": "ipython3",
   "version": "3.11.3"
  }
 },
 "nbformat": 4,
 "nbformat_minor": 2
}
